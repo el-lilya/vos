{
 "cells": [
  {
   "cell_type": "code",
   "execution_count": 10,
   "id": "2e52ac79-2692-4dde-85f1-475c84bc13dc",
   "metadata": {},
   "outputs": [
    {
     "name": "stdout",
     "output_type": "stream",
     "text": [
      "/netapp/l.lemikhova/projects/VOS_forked/vos\n"
     ]
    }
   ],
   "source": [
    "%cd /netapp/l.lemikhova/projects/VOS_forked/vos"
   ]
  },
  {
   "cell_type": "code",
   "execution_count": 11,
   "id": "2b7a5afa-fd04-4c08-bcbc-50871f4c24fe",
   "metadata": {},
   "outputs": [
    {
     "name": "stderr",
     "output_type": "stream",
     "text": [
      "/netapp/l.lemikhova/anaconda3/envs/vos/lib/python3.9/site-packages/tqdm/auto.py:22: TqdmWarning: IProgress not found. Please update jupyter and ipywidgets. See https://ipywidgets.readthedocs.io/en/stable/user_install.html\n",
      "  from .autonotebook import tqdm as notebook_tqdm\n"
     ]
    }
   ],
   "source": [
    "import argparse\n",
    "import csv\n",
    "import cv2\n",
    "import json\n",
    "import os\n",
    "from detection.core.datasets import metadata\n",
    "from matplotlib import pyplot as plt\n",
    "from tqdm import tqdm\n",
    "import imagesize"
   ]
  },
  {
   "cell_type": "code",
   "execution_count": 19,
   "id": "9fe165e0-ce46-4c11-a051-59aa5a874337",
   "metadata": {},
   "outputs": [],
   "source": [
    "def get_fruits_dicts(stage, root=\"./data/OpenIm\", output_dir=None, dataset='openim'): \n",
    "    root_ann = f'{root_img}/annotation'\n",
    "    root_img = f'{root}/images'\n",
    "    openim_classes_need = metadata.OPENIM_FRUITS_ID_THING_CLASSES\n",
    "    # openim_classes_need = ['banana', 'apple', 'orange', 'strawberry', 'tomato', 'lemon', 'pear', 'grape', 'watermelon', 'pineapple', 'pomegranate', 'grapefruit', 'peach', 'mango', 'common_fig', 'cantaloupe']\n",
    "    category_mapper = dict(zip(openim_classes_need, range(len(openim_classes_need))))\n",
    "    images_list_id = []\n",
    "    annotations_list_id = []    \n",
    "    images_list_ood = []\n",
    "    annotations_list_ood = []   \n",
    "    f = open(f'{root_ann}/{dataset}_fruits_all/fruits_{stage}.txt')\n",
    "    filename = str.rstrip(f.readline()) # 'The first line.\\n'\n",
    "    idx = 0\n",
    "    count = 0\n",
    "    while filename != '':\n",
    "        annotation_list_file_id = []\n",
    "        full_filename = os.path.join(root_img, filename)\n",
    "        if not os.path.exists(full_filename):\n",
    "            num = int(f.readline())\n",
    "            for _ in range(num):\n",
    "                line = f.readline()\n",
    "            filename = str.rstrip(f.readline()) # 'The first line.\\n'\n",
    "            continue\n",
    "        width, height = imagesize.get(full_filename)\n",
    "        num = int(f.readline())\n",
    "        num_ID_boxes = 0\n",
    "        has_ood = False\n",
    "        for i in range(num):\n",
    "            line = f.readline()\n",
    "            bbox = list(map(float, line.split(' ')[:4]))\n",
    "            category_name = ' '.join(line.split(' ')[4:])[:-1]\n",
    "            if category_name not in category_mapper.keys():\n",
    "                has_ood = True\n",
    "                continue\n",
    "            label = category_mapper[category_name]\n",
    "            annotation_list_file_id.append({'image_id': idx,\n",
    "                                    'id': count,\n",
    "                                    'category_id': label,\n",
    "                                    'bbox': bbox,\n",
    "                                    'area': bbox[2] * bbox[3],\n",
    "                                    'iscrowd': 0,\n",
    "                                    'is_truncated': 0,\n",
    "                                    'is_occluded': 0})\n",
    "            count += 1\n",
    "            num_ID_boxes += 1\n",
    "        condition_id = num_ID_boxes > 0 and not has_ood\n",
    "        condition_ood = num_ID_boxes == 0\n",
    "        if condition_id:\n",
    "            annotations_list_id += annotation_list_file_id\n",
    "            images_list_id.append({'id': idx,\n",
    "                            'width': width,\n",
    "                            'height': height,\n",
    "                            'file_name': filename,\n",
    "                            'license': 1})\n",
    "        elif condition_ood:\n",
    "            images_list_ood.append({'id': idx,\n",
    "                            'width': width,\n",
    "                            'height': height,\n",
    "                            'file_name': filename,\n",
    "                            'license': 1})\n",
    "        filename = str.rstrip(f.readline()) # 'The first line.\\n'\n",
    "        idx += 1\n",
    "    for images_list, annotations_list, output_dir in zip([images_list_id, images_list_ood], [annotations_list_id, annotations_list_ood], [f'{root_ann}/{dataset}_id/COCO-Format', f'{root_ann}/{dataset}_ood/COCO-Format']):\n",
    "        categories = [{\"supercategory\": \"food\", \"id\": i, \"name\": classname} for classname, i in category_mapper.items()]\n",
    "        licenses = [{'id': 1,\n",
    "                    'name': 'none',\n",
    "                    'url': 'none'}]\n",
    "        json_dict = {'info': {'year': 2020},\n",
    "                    'licenses': licenses,\n",
    "                    'categories': categories,\n",
    "                    'images': images_list,\n",
    "                    'annotations': annotations_list}\n",
    "        os.makedirs(output_dir, exist_ok=True)\n",
    "        file_name = f'{output_dir}/{stage}_coco_format.json'\n",
    "        with open(file_name, 'w') as outfile:\n",
    "            json.dump(json_dict, outfile)\n",
    "    print('num id_bboxes:', count)\n",
    "    print('len(images_list_id):', len(images_list_id))\n",
    "    print('len(images_list_ood):', len(images_list_ood))\n",
    "    return 0"
   ]
  },
  {
   "cell_type": "code",
   "execution_count": 19,
   "id": "6a5d2691-f725-4371-a973-2923e5e7d800",
   "metadata": {},
   "outputs": [],
   "source": [
    "# for stage in ['test', 'val', 'train']:\n",
    "#     print(stage)\n",
    "#     get_fruits_dicts(stage, root=\"./data/OpenIm\", output_dir=None, dataset='openim')"
   ]
  },
  {
   "cell_type": "code",
   "execution_count": 21,
   "id": "af030e3b-5df0-4434-a432-df839f6eac12",
   "metadata": {},
   "outputs": [
    {
     "name": "stdout",
     "output_type": "stream",
     "text": [
      "test\n",
      "num id_bboxes: 7983\n",
      "len(images_list_id): 429\n",
      "len(images_list_ood): 20\n",
      "val\n",
      "num id_bboxes: 9843\n",
      "len(images_list_id): 389\n",
      "len(images_list_ood): 10\n",
      "train\n",
      "num id_bboxes: 62076\n",
      "len(images_list_id): 2218\n",
      "len(images_list_ood): 70\n"
     ]
    }
   ],
   "source": [
    "for stage in ['test', 'val', 'train']:\n",
    "    print(stage)\n",
    "    get_fruits_dicts(stage=stage, root=\"./data/COCO\", output_dir=None, dataset='coco')"
   ]
  },
  {
   "cell_type": "markdown",
   "id": "90de6eca-8dce-4b21-82f9-19c0640a0fb5",
   "metadata": {
    "jp-MarkdownHeadingCollapsed": true,
    "tags": []
   },
   "source": [
    "## OOD similar and different"
   ]
  },
  {
   "cell_type": "code",
   "execution_count": 16,
   "id": "3c5ff4ea",
   "metadata": {},
   "outputs": [],
   "source": [
    "def get_sim_diff_dicts(stage, root_ann=\"./data/OpenIm/annotation\", root_img=\"./data/OpenIm\", dataset='openim'):  #'/content/coco'\n",
    "    openim_classes_need = metadata.OPENIM_FRUITS_ID_THING_CLASSES\n",
    "    # ood = 'grape', 'watermelon', 'pineapple', 'pomegranate', 'grapefruit', 'peach', 'mango', 'common fig', 'cantaloupe'\n",
    "    ood_sim = ['grape', 'grapefruit', 'peach', 'mango']\n",
    "    ood_diff = ['watermelon', 'pineapple', 'pomegranate','common fig', 'cantaloupe']\n",
    "    category_mapper = dict(zip(openim_classes_need, range(len(openim_classes_need))))\n",
    "    images_list_id = []\n",
    "    images_list_ood = []\n",
    "    images_list_ood_sim = []\n",
    "    images_list_ood_diff = []\n",
    "    annotations_list_id = []    \n",
    "    annotations_list_ood = []   \n",
    "    f = open(f'{root_ann}/openim_fruits_all/fruits_{stage}.txt')\n",
    "    filename = str.rstrip(f.readline()) # 'The first line.\\n'\n",
    "    idx = 0\n",
    "    count = 0\n",
    "    while filename != '':\n",
    "        annotation_list_file_id = []\n",
    "        full_filename = os.path.join(root_img, filename)\n",
    "        if not os.path.exists(full_filename):\n",
    "            num = int(f.readline())\n",
    "            for _ in range(num):\n",
    "                line = f.readline()\n",
    "            filename = str.rstrip(f.readline()) # 'The first line.\\n'\n",
    "            continue\n",
    "        img = cv2.imread(full_filename)\n",
    "        height, width = img.shape[:2]\n",
    "        num = int(f.readline())\n",
    "        num_ID_boxes = 0\n",
    "        has_ood = False\n",
    "        categories = []\n",
    "        for i in range(num):\n",
    "            line = f.readline()\n",
    "            bbox = list(map(float, line.split(' ')[:4]))\n",
    "            category_name = ' '.join(line.split(' ')[4:])[:-1]\n",
    "            if category_name not in category_mapper.keys():\n",
    "                has_ood = True\n",
    "                categories.append(category_name)\n",
    "                continue\n",
    "            label = category_mapper[category_name]\n",
    "            annotation_list_file_id.append({'image_id': idx,\n",
    "                                    'id': count,\n",
    "                                    'category_id': label,\n",
    "                                    'bbox': bbox,\n",
    "                                    'area': bbox[2] * bbox[3],\n",
    "                                    'iscrowd': 0,\n",
    "                                    'is_truncated': 0,\n",
    "                                    'is_occluded': 0})\n",
    "            count += 1\n",
    "            num_ID_boxes += 1\n",
    "        condition_id = num_ID_boxes > 0 and not has_ood\n",
    "        condition_ood = num_ID_boxes == 0 and has_ood\n",
    "        if condition_id:\n",
    "            annotations_list_id += annotation_list_file_id\n",
    "            images_list_id.append({'id': idx,\n",
    "                            'width': width,\n",
    "                            'height': height,\n",
    "                            'file_name': filename,\n",
    "                            'license': 1})\n",
    "        elif condition_ood:\n",
    "            images_list_ood.append({'id': idx,\n",
    "                            'width': width,\n",
    "                            'height': height,\n",
    "                            'file_name': filename,\n",
    "                            'license': 1})\n",
    "            if min([category in ood_sim for category in categories]):\n",
    "                images_list_ood_sim.append({'id': idx,\n",
    "                                'width': width,\n",
    "                                'height': height,\n",
    "                                'file_name': filename,\n",
    "                                'license': 1})\n",
    "            elif min([category in ood_diff for category in categories]):\n",
    "                images_list_ood_diff.append({'id': idx,\n",
    "                                'width': width,\n",
    "                                'height': height,\n",
    "                                'file_name': filename,\n",
    "                                'license': 1})\n",
    "        filename = str.rstrip(f.readline()) # 'The first line.\\n'\n",
    "        idx += 1\n",
    "    for images_list, annotations_list, output_dir in zip([images_list_ood_sim, images_list_ood_diff], [annotations_list_ood, annotations_list_ood], [f'{root_ann}/{dataset}_ood_sim/COCO-Format', f'{root_ann}/{dataset}_ood_diff/COCO-Format']):\n",
    "        categories = [{\"supercategory\": \"food\", \"id\": i, \"name\": classname} for classname, i in category_mapper.items()]\n",
    "        licenses = [{'id': 1,\n",
    "                    'name': 'none',\n",
    "                    'url': 'none'}]\n",
    "        json_dict = {'info': {'year': 2020},\n",
    "                    'licenses': licenses,\n",
    "                    'categories': categories,\n",
    "                    'images': images_list,\n",
    "                    'annotations': annotations_list}\n",
    "        os.makedirs(output_dir, exist_ok=True)\n",
    "        file_name = f'{output_dir}/{stage}_coco_format.json'\n",
    "        with open(file_name, 'w') as outfile:\n",
    "            json.dump(json_dict, outfile)\n",
    "    print(count)\n",
    "    print('images_list_id', len(images_list_id))\n",
    "    print('images_list_ood', len(images_list_ood))\n",
    "    print('images_list_ood_sim', len(images_list_ood_sim))\n",
    "    print('images_list_ood_diff', len(images_list_ood_diff))\n",
    "    return 0"
   ]
  },
  {
   "cell_type": "code",
   "execution_count": 17,
   "id": "1556a469",
   "metadata": {},
   "outputs": [
    {
     "name": "stdout",
     "output_type": "stream",
     "text": [
      "test\n",
      "906\n",
      "images_list_id 209\n",
      "images_list_ood 85\n",
      "images_list_ood_sim 30\n",
      "images_list_ood_diff 50\n",
      "val\n",
      "2724\n",
      "images_list_id 617\n",
      "images_list_ood 153\n",
      "images_list_ood_sim 29\n",
      "images_list_ood_diff 116\n",
      "train\n",
      "16779\n",
      "images_list_id 3500\n",
      "images_list_ood 873\n",
      "images_list_ood_sim 202\n",
      "images_list_ood_diff 610\n"
     ]
    }
   ],
   "source": [
    "for stage in ['test', 'val', 'train']:\n",
    "    print(stage)\n",
    "    get_sim_diff_dicts(stage)\n"
   ]
  },
  {
   "cell_type": "markdown",
   "id": "8da4b430",
   "metadata": {},
   "source": [
    "## COCO neg"
   ]
  },
  {
   "cell_type": "code",
   "execution_count": 18,
   "id": "4fe594d4",
   "metadata": {},
   "outputs": [
    {
     "name": "stdout",
     "output_type": "stream",
     "text": [
      "0\n",
      "0\n",
      "500\n"
     ]
    },
    {
     "data": {
      "text/plain": [
       "0"
      ]
     },
     "execution_count": 18,
     "metadata": {},
     "output_type": "execute_result"
    }
   ],
   "source": [
    "get_fruits_dicts(stage='test', root_ann=\"./data/coco_neg\", root_img=\"/ssd/l.lemikhova/data/animals/coco/full/val2017\", output_dir=None, dataset='coco_neg')"
   ]
  },
  {
   "cell_type": "markdown",
   "id": "004617e0",
   "metadata": {},
   "source": [
    "## Deep fruits"
   ]
  },
  {
   "cell_type": "code",
   "execution_count": 4,
   "id": "99bc8574",
   "metadata": {},
   "outputs": [
    {
     "name": "stdout",
     "output_type": "stream",
     "text": [
      "981\n",
      "163\n",
      "166\n"
     ]
    },
    {
     "data": {
      "text/plain": [
       "0"
      ]
     },
     "execution_count": 4,
     "metadata": {},
     "output_type": "execute_result"
    }
   ],
   "source": [
    "get_fruits_dicts('test', root_ann=\"./data/deep_fruits\", root_img=\"./data/deep_fruits\", dataset='deep_fruits')"
   ]
  },
  {
   "cell_type": "markdown",
   "id": "b83e1f15",
   "metadata": {},
   "source": [
    "### Check that no id in ood"
   ]
  },
  {
   "cell_type": "code",
   "execution_count": null,
   "id": "4a58b85c",
   "metadata": {},
   "outputs": [],
   "source": [
    "stage = 'test'\n",
    "root = \"./data/deep_fruits\"\n",
    "openim_classes_need = metadata.OPENIM_FRUITS_ID_THING_CLASSES\n",
    "category_mapper = dict(zip(openim_classes_need, range(len(openim_classes_need))))\n",
    "images_list_id = []\n",
    "annotations_list_id = []    \n",
    "images_list_ood = []\n",
    "annotations_list_ood = []   \n",
    "f = open(f'{root}/annotation/fruits_{stage}.txt')\n",
    "filename = str.rstrip(f.readline()) # 'The first line.\\n'\n",
    "idx = 0\n",
    "count = 0\n",
    "ood_num = 0\n",
    "while filename != '' and ood_num < 10:\n",
    "    annotation_list_file_id = []\n",
    "    full_filename = os.path.join(root, filename)\n",
    "    img = cv2.imread(full_filename)\n",
    "    height, width = img.shape[:2]\n",
    "    num = int(f.readline())\n",
    "    num_ID_boxes = 0\n",
    "    categories = []\n",
    "    has_ood = False\n",
    "    for i in range(num):\n",
    "        line = f.readline()\n",
    "        bbox = list(map(float, line.split(' ')[:4]))\n",
    "        category_name = ' '.join(line.split(' ')[4:])[:-1]\n",
    "        if category_name not in category_mapper.keys():\n",
    "            has_ood = True\n",
    "            categories.append(category_name)\n",
    "            continue\n",
    "        label = category_mapper[category_name]\n",
    "        categories.append(category_name)\n",
    "        count += 1\n",
    "        num_ID_boxes += 1\n",
    "    condition_id = num_ID_boxes > 0 and not has_ood\n",
    "    condition_ood = num_ID_boxes == 0 and has_ood\n",
    "    # if condition_id:\n",
    "    #     annotations_list_id += annotation_list_file_id\n",
    "    #     images_list_id.append({'id': idx,\n",
    "    #                     'width': width,\n",
    "    #                     'height': height,\n",
    "    #                     'file_name': filename,\n",
    "    #                     'license': 1})\n",
    "    if condition_ood:\n",
    "        print(categories)\n",
    "        ood_num += 1\n",
    "        img = cv2.cvtColor(img, cv2.COLOR_BGR2RGB)\n",
    "        plt.imshow(img)\n",
    "        plt.show()\n",
    "    filename = str.rstrip(f.readline()) # 'The first line.\\n'\n",
    "    idx += 1"
   ]
  },
  {
   "cell_type": "code",
   "execution_count": null,
   "id": "13b0acb2",
   "metadata": {},
   "outputs": [],
   "source": []
  }
 ],
 "metadata": {
  "interpreter": {
   "hash": "8ea81fa69e4e797ae558126387a6cc5967673a76fde82279a76e9d74a6f57589"
  },
  "kernelspec": {
   "display_name": "vos",
   "language": "python",
   "name": "vos"
  },
  "language_info": {
   "codemirror_mode": {
    "name": "ipython",
    "version": 3
   },
   "file_extension": ".py",
   "mimetype": "text/x-python",
   "name": "python",
   "nbconvert_exporter": "python",
   "pygments_lexer": "ipython3",
   "version": "3.9.7"
  }
 },
 "nbformat": 4,
 "nbformat_minor": 5
}
