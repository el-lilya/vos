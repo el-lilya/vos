{
 "cells": [
  {
   "cell_type": "code",
   "execution_count": 3,
   "metadata": {},
   "outputs": [],
   "source": [
    "import json\n",
    "import pandas as pd\n",
    "import glob\n",
    "from tqdm import tqdm\n",
    "import xml.etree.ElementTree as ET\n",
    "import cv2\n",
    "from matplotlib import pyplot as plt\n",
    "import numpy as np\n",
    "import os\n",
    "import base64\n",
    "import math\n",
    "from itertools import combinations\n",
    "from sklearn.model_selection import train_test_split"
   ]
  },
  {
   "cell_type": "markdown",
   "metadata": {},
   "source": [
    "## COCO neg"
   ]
  },
  {
   "cell_type": "code",
   "execution_count": 4,
   "metadata": {},
   "outputs": [
    {
     "name": "stdout",
     "output_type": "stream",
     "text": [
      "/netapp/l.lemikhova\n"
     ]
    }
   ],
   "source": [
    "%cd ~"
   ]
  },
  {
   "cell_type": "code",
   "execution_count": 20,
   "metadata": {},
   "outputs": [
    {
     "name": "stdout",
     "output_type": "stream",
     "text": [
      "{52: 'banana', 53: 'apple', 54: 'sandwich', 55: 'orange', 56: 'broccoli', 57: 'carrot', 58: 'hot dog', 59: 'pizza', 60: 'donut', 61: 'cake'}\n"
     ]
    },
    {
     "data": {
      "text/plain": [
       "dict_items([(52, 'banana'), (53, 'apple'), (54, 'sandwich'), (55, 'orange'), (56, 'broccoli'), (57, 'carrot'), (58, 'hot dog'), (59, 'pizza'), (60, 'donut'), (61, 'cake')])"
      ]
     },
     "execution_count": 20,
     "metadata": {},
     "output_type": "execute_result"
    }
   ],
   "source": [
    "with open('projects/trainset/datasets/COCO/annotations/instances_val2017.json') as json_file:\n",
    "    data_val = json.load(json_file)\n",
    "    # print(data_val['categories'])\n",
    "    coco_categories = {cat['id']: cat['name'] for cat in data_val['categories'] if cat['supercategory'] == 'food'}\n",
    "    print(coco_categories)\n",
    "\n",
    "# needed_cats = ['banana', 'apple', 'orange']\n",
    "# coco_categories = {key: item for (key, item) in coco_categories.items() if item in needed_cats}\n",
    "coco_categories.items()"
   ]
  },
  {
   "cell_type": "code",
   "execution_count": 6,
   "metadata": {},
   "outputs": [],
   "source": [
    "with open('projects/trainset/datasets/COCO/annotations/instances_val2017.json') as json_file:\n",
    "    data_val = json.load(json_file)"
   ]
  },
  {
   "cell_type": "code",
   "execution_count": 21,
   "metadata": {},
   "outputs": [
    {
     "name": "stdout",
     "output_type": "stream",
     "text": [
      "(36781, 7)\n",
      "(36781, 7)\n"
     ]
    }
   ],
   "source": [
    "ann_test = pd.DataFrame(data_val['annotations'])\n",
    "print(ann_test.shape)"
   ]
  },
  {
   "cell_type": "code",
   "execution_count": 23,
   "metadata": {},
   "outputs": [
    {
     "data": {
      "text/plain": [
       "(708, 8)"
      ]
     },
     "execution_count": 23,
     "metadata": {},
     "output_type": "execute_result"
    }
   ],
   "source": [
    "images_test = pd.DataFrame(data_val['images'])\n",
    "id2filename_test = dict(zip(images_test['id'], images_test['file_name']))\n",
    "ann_test['filename'] = ann_test['image_id'].map(id2filename_test)\n",
    "\n",
    "ann_test_pos = ann_test[ann_test['category_id'].isin(coco_categories.keys())]\n",
    "\n",
    "images_pos_test = images_test[images_test['id'].isin(ann_test_pos['image_id'])]\n",
    "images_pos_test.shape"
   ]
  },
  {
   "cell_type": "code",
   "execution_count": 28,
   "metadata": {},
   "outputs": [
    {
     "data": {
      "text/plain": [
       "4292"
      ]
     },
     "execution_count": 28,
     "metadata": {},
     "output_type": "execute_result"
    }
   ],
   "source": [
    "# filenames_test = images_pos_test['file_name'].unique()\n",
    "filenames_test = list(set(images_test['file_name'].unique()) - set(images_pos_test['file_name'].unique()))\n",
    "len(filenames_test)\n"
   ]
  },
  {
   "cell_type": "code",
   "execution_count": 29,
   "metadata": {},
   "outputs": [
    {
     "name": "stderr",
     "output_type": "stream",
     "text": [
      "100%|██████████| 500/500 [00:00<00:00, 564661.28it/s]\n"
     ]
    }
   ],
   "source": [
    "stage = 'test'\n",
    "dir_path = '/netapp/l.lemikhova/projects/VOS_forked/vos/data/coco_neg'\n",
    "f = open(f'{dir_path}/annotation/fruits_{stage}.txt', 'w')\n",
    "for filename in tqdm(filenames_test[:500]):\n",
    "    f.write(f'{filename}\\n')\n",
    "    f.write('0\\n')\n",
    "f.close()  "
   ]
  },
  {
   "cell_type": "code",
   "execution_count": null,
   "metadata": {},
   "outputs": [],
   "source": []
  }
 ],
 "metadata": {
  "interpreter": {
   "hash": "8ea81fa69e4e797ae558126387a6cc5967673a76fde82279a76e9d74a6f57589"
  },
  "kernelspec": {
   "display_name": "Python 3.9.7 ('vos')",
   "language": "python",
   "name": "python3"
  },
  "language_info": {
   "codemirror_mode": {
    "name": "ipython",
    "version": 3
   },
   "file_extension": ".py",
   "mimetype": "text/x-python",
   "name": "python",
   "nbconvert_exporter": "python",
   "pygments_lexer": "ipython3",
   "version": "3.9.7"
  },
  "orig_nbformat": 4
 },
 "nbformat": 4,
 "nbformat_minor": 2
}
